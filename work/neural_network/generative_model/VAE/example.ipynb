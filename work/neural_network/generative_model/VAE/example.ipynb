{
 "cells": [
  {
   "cell_type": "code",
   "execution_count": 4,
   "metadata": {},
   "outputs": [
    {
     "data": {
      "text/plain": [
       "10-element DataLoader(::Tuple{Matrix{Float32}, Vector{Int64}}, batchsize=1000)\n",
       "  with first element:\n",
       "  (784×1000 Matrix{Float32}, 1000-element Vector{Int64},)"
      ]
     },
     "metadata": {},
     "output_type": "display_data"
    }
   ],
   "source": [
    "using Test\n",
    "using Flux\n",
    "using MLDatasets\n",
    "using Plots\n",
    "using Images\n",
    "\n",
    "include(\"./VAE.jl\")\n",
    "\n",
    "## データセット用意\n",
    "train_data = MNIST(split=:train)\n",
    "test_data = MNIST(split=:test)\n",
    "\n",
    "X_train, y_train = train_data.features, train_data.targets\n",
    "X_test, y_test = test_data.features, test_data.targets\n",
    "\n",
    "train_dataloader = Flux.DataLoader((Flux.flatten(X_train), y_train,), batchsize=1000, shuffle=true)\n",
    "test_dataloader = Flux.DataLoader((Flux.flatten(X_test), y_test,), batchsize=1000, shuffle=false)"
   ]
  },
  {
   "cell_type": "code",
   "execution_count": null,
   "metadata": {},
   "outputs": [],
   "source": [
    "# 学習開始\n",
    "input_dim = 784\n",
    "hidden_dim = 128\n",
    "latent_dim = 16\n",
    "model = VAE.Model(input_dim, hidden_dim, latent_dim)\n",
    "\n",
    "epochs = 100\n",
    "opt = Flux.Adam(0.001)\n",
    "params = Flux.params(model)\n",
    "\n",
    "for epoch in 1:epochs\n",
    "    train_loss = 0.0\n",
    "    val_loss = 0.0\n",
    "\n",
    "    for (i, data) in enumerate(train_dataloader)\n",
    "        loss, grads = Flux.withgradient(params) do\n",
    "            x, _ = data\n",
    "            x = Flux.flatten(x)\n",
    "            x̂, μ, logσ2 = model(x)\n",
    "            return VAE.loss(x, x̂, μ, logσ2)\n",
    "        end\n",
    "        train_loss += loss\n",
    "        Flux.update!(opt, params, grads)\n",
    "    end\n",
    "\n",
    "    train_loss /= length(train_dataloader)\n",
    "    \n",
    "    for (x, _) in test_dataloader\n",
    "        x = Flux.flatten(x)\n",
    "        x̂, μ, logσ2 = model(x)\n",
    "        val_loss += VAE.loss(x, x̂, μ, logσ2)\n",
    "    end\n",
    "\n",
    "    val_loss /= length(test_dataloader)\n",
    "    val_re /= length(test_dataloader)\n",
    "\n",
    "    println(\"epoch: $epoch, train loss: $train_loss, val loss: $val_loss\")\n",
    "    println(\"reconstruction error: $val_re\")\n",
    "end"
   ]
  },
  {
   "cell_type": "code",
   "execution_count": null,
   "metadata": {},
   "outputs": [],
   "source": [
    "## 元画像と生成画像を確認する\n",
    "x = first(train_dataloader)[1][:,:,30]\n",
    "x .|> Gray\n",
    "x = reshape(Flux.flatten(x), 784, 1)\n",
    "x̂, μ, logσ2 = model(x)\n",
    "\n",
    "reshape(x̂, 28, 28) .|> Gray"
   ]
  }
 ],
 "metadata": {
  "kernelspec": {
   "display_name": "Julia 1.10.0-rc3",
   "language": "julia",
   "name": "julia-1.10"
  },
  "language_info": {
   "file_extension": ".jl",
   "mimetype": "application/julia",
   "name": "julia",
   "version": "1.10.0-rc3"
  }
 },
 "nbformat": 4,
 "nbformat_minor": 2
}
