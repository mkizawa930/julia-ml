{
 "cells": [
  {
   "cell_type": "code",
   "execution_count": 1,
   "metadata": {},
   "outputs": [],
   "source": [
    "using Distributions\n",
    "using Plots\n",
    "using LinearAlgebra\n",
    "using Statistics"
   ]
  },
  {
   "cell_type": "code",
   "execution_count": 4,
   "metadata": {},
   "outputs": [
    {
     "data": {
      "text/plain": [
       "(n_particles = 10000, n_particle_dim = 2, n_obs_dim = 1, lags = 20)"
      ]
     },
     "metadata": {},
     "output_type": "display_data"
    }
   ],
   "source": [
    "model = (\n",
    "    n_particles = 10000,\n",
    "    n_particle_dim = 2,\n",
    "    n_obs_dim = 1,\n",
    "    lags = 20,\n",
    ")"
   ]
  },
  {
   "cell_type": "code",
   "execution_count": null,
   "metadata": {},
   "outputs": [],
   "source": [
    "Particle{T,N} = Array{T,N}\n",
    "\n",
    "function update(pf, ps)\n",
    "    vs = generate(pf)\n",
    "    return pf.f.(ps, vs)\n",
    "end\n",
    "\n",
    "function predict(pf, ps)\n",
    "    return pf.h.(ps)\n",
    "end\n",
    "\n",
    "\n",
    "function get_weights(model, y, yhat)\n",
    "    dist = create(pf.observation)\n",
    "    weights = loglikelihood.(Ref(dist), y .- yhat)\n",
    "    weights .= exp.(weights .- maximum(weights))\n",
    "    wights ./= sum(weights)\n",
    "    return weights\n",
    "end\n",
    "\n",
    "# 粒子リサンプリング\n",
    "function resample(ps, ws)\n",
    "    return sample(ps, weights(ws), length(ps))\n",
    "end\n",
    "\n",
    "function update\n",
    "\n"
   ]
  },
  {
   "cell_type": "code",
   "execution_count": 5,
   "metadata": {},
   "outputs": [
    {
     "data": {
      "text/plain": [
       "particle_filter (generic function with 1 method)"
      ]
     },
     "metadata": {},
     "output_type": "display_data"
    }
   ],
   "source": [
    "function particle_filter(y; \n",
    "    n_particles,\n",
    "    n_particle_dim,\n",
    "    n_obs_dim,\n",
    "    lags,\n",
    "    seed=123\n",
    ")\n",
    "    Random.seed!(seed)\n",
    "    if ndims(y) == 1 # if y is vector\n",
    "        y = reshape(y, 1, :)\n",
    "    end\n",
    "    N = size(y, 2)\n",
    "\n",
    "    for k = 1:N\n",
    "        # update particles\n",
    "        # p_{j,k+1} = f(p_{j,k}, w{j,k})\n",
    "        \n",
    "        # generate predict particles by expectation\n",
    "        # q_{j,k} = h(p_{j,k})\n",
    "\n",
    "        # resampling\n",
    "        # calc each particle weight by observation\n",
    "        # w_{j,k} = logP(y_k, q_{j,k})\n",
    "\n",
    "        # \n",
    "    end\n",
    "\n",
    "end"
   ]
  },
  {
   "cell_type": "code",
   "execution_count": null,
   "metadata": {},
   "outputs": [],
   "source": []
  }
 ],
 "metadata": {
  "kernelspec": {
   "display_name": "Julia 1.10.0-rc3",
   "language": "julia",
   "name": "julia-1.10"
  },
  "language_info": {
   "file_extension": ".jl",
   "mimetype": "application/julia",
   "name": "julia",
   "version": "1.10.0-rc3"
  }
 },
 "nbformat": 4,
 "nbformat_minor": 2
}
