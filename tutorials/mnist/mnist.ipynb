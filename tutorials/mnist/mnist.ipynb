{
 "cells": [
  {
   "cell_type": "code",
   "execution_count": 16,
   "metadata": {},
   "outputs": [],
   "source": [
    "using MLDatasets\n",
    "using Images\n",
    "using Flux\n",
    "\n"
   ]
  },
  {
   "cell_type": "code",
   "execution_count": 34,
   "metadata": {},
   "outputs": [
    {
     "data": {
      "text/plain": [
       "dataset MNIST:\n",
       "  metadata  =>    Dict{String, Any} with 3 entries\n",
       "  split     =>    :train\n",
       "  features  =>    28×28×60000 Array{Float32, 3}\n",
       "  targets   =>    60000-element Vector{Int64}"
      ]
     },
     "metadata": {},
     "output_type": "display_data"
    }
   ],
   "source": [
    "using MLDatasets\n",
    "\n"
   ]
  },
  {
   "cell_type": "code",
   "execution_count": 36,
   "metadata": {},
   "outputs": [
    {
     "data": {
      "text/plain": [
       "(Float32[0.0 0.0 … 0.0 0.0; 0.0 0.0 … 0.0 0.0; … ; 0.0 0.0 … 0.0 0.0; 0.0 0.0 … 0.0 0.0;;; 0.0 0.0 … 0.0 0.0; 0.0 0.0 … 0.0 0.0; … ; 0.0 0.0 … 0.0 0.0; 0.0 0.0 … 0.0 0.0;;; 0.0 0.0 … 0.0 0.0; 0.0 0.0 … 0.0 0.0; … ; 0.0 0.0 … 0.0 0.0; 0.0 0.0 … 0.0 0.0;;; … ;;; 0.0 0.0 … 0.0 0.0; 0.0 0.0 … 0.0 0.0; … ; 0.0 0.0 … 0.0 0.0; 0.0 0.0 … 0.0 0.0;;; 0.0 0.0 … 0.0 0.0; 0.0 0.0 … 0.0 0.0; … ; 0.0 0.0 … 0.0 0.0; 0.0 0.0 … 0.0 0.0;;; 0.0 0.0 … 0.0 0.0; 0.0 0.0 … 0.0 0.0; … ; 0.0 0.0 … 0.0 0.0; 0.0 0.0 … 0.0 0.0], [7, 2, 1, 0, 4, 1, 4, 9, 5, 9  …  7, 8, 9, 0, 1, 2, 3, 4, 5, 6])"
      ]
     },
     "metadata": {},
     "output_type": "display_data"
    }
   ],
   "source": []
  },
  {
   "cell_type": "code",
   "execution_count": 25,
   "metadata": {},
   "outputs": [
    {
     "data": {
      "text/plain": [
       "Chain(\n",
       "  Dense(784 => 256, relu),              \u001b[90m# 200_960 parameters\u001b[39m\n",
       "  Dense(256 => 10, relu),               \u001b[90m# 2_570 parameters\u001b[39m\n",
       "  NNlib.softmax,\n",
       ") \u001b[90m                  # Total: 4 arrays, \u001b[39m203_530 parameters, 795.289 KiB."
      ]
     },
     "metadata": {},
     "output_type": "display_data"
    }
   ],
   "source": []
  },
  {
   "cell_type": "code",
   "execution_count": 26,
   "metadata": {},
   "outputs": [
    {
     "data": {
      "text/plain": [
       "loss (generic function with 1 method)"
      ]
     },
     "metadata": {},
     "output_type": "display_data"
    }
   ],
   "source": [
    "loss(x, y) = Flux.Losses.logitcrossentropy(model(x), y)"
   ]
  },
  {
   "cell_type": "code",
   "execution_count": 27,
   "metadata": {},
   "outputs": [
    {
     "data": {
      "text/plain": [
       "Adam(0.0001, (0.9, 0.999), 1.0e-8, IdDict{Any, Any}())"
      ]
     },
     "metadata": {},
     "output_type": "display_data"
    }
   ],
   "source": [
    "optimizer = Adam(0.0001)"
   ]
  },
  {
   "cell_type": "code",
   "execution_count": 52,
   "metadata": {},
   "outputs": [
    {
     "ename": "DimensionMismatch",
     "evalue": "DimensionMismatch: loss function expects size(ŷ) = (10, 60000) to match size(y) = (1, 60000)",
     "output_type": "error",
     "traceback": [
      "DimensionMismatch: loss function expects size(ŷ) = (10, 60000) to match size(y) = (1, 60000)\n",
      "\n",
      "Stacktrace:\n",
      "  [1] _check_sizes(ŷ::Matrix{Float32}, y::Matrix{Int64})\n",
      "    @ Flux.Losses ~/.julia/packages/Flux/Wz6D4/src/losses/utils.jl:31\n",
      "  [2] rrule\n",
      "    @ ~/.julia/packages/Flux/Wz6D4/src/losses/utils.jl:38 [inlined]\n",
      "  [3] rrule\n",
      "    @ ~/.julia/packages/ChainRulesCore/zgT0R/src/rules.jl:134 [inlined]\n",
      "  [4] chain_rrule\n",
      "    @ ~/.julia/packages/Zygote/jxHJc/src/compiler/chainrules.jl:223 [inlined]\n",
      "  [5] macro expansion\n",
      "    @ ~/.julia/packages/Zygote/jxHJc/src/compiler/interface2.jl:0 [inlined]\n",
      "  [6] _pullback(ctx::ZygoteRules.AContext, f::Any, args::Vararg{Any})\n",
      "    @ Zygote ~/.julia/packages/Zygote/jxHJc/src/compiler/interface2.jl:81 [inlined]\n",
      "  [7] #logitcrossentropy#19\n",
      "    @ ~/.julia/packages/Flux/Wz6D4/src/losses/functions.jl:274 [inlined]\n",
      "  [8] _pullback(::Zygote.Context{true}, ::Flux.Losses.var\"##logitcrossentropy#19\", ::Int64, ::typeof(Statistics.mean), ::typeof(Flux.Losses.logitcrossentropy), ::Matrix{Float32}, ::Matrix{Int64})\n",
      "    @ Zygote ~/.julia/packages/Zygote/jxHJc/src/compiler/interface2.jl:0\n",
      "  [9] logitcrossentropy\n",
      "    @ ~/.julia/packages/Flux/Wz6D4/src/losses/functions.jl:273 [inlined]\n",
      " [10] _pullback(::Zygote.Context{true}, ::typeof(Flux.Losses.logitcrossentropy), ::Matrix{Float32}, ::Matrix{Int64})\n",
      "    @ Zygote ~/.julia/packages/Zygote/jxHJc/src/compiler/interface2.jl:0\n",
      " [11] loss\n",
      "    @ ~/projects/julia-ml/tutorials/mnist/mnist.ipynb:1 [inlined]\n",
      " [12] _pullback(::Zygote.Context{true}, ::typeof(loss), ::Matrix{Float32}, ::Matrix{Int64})\n",
      "    @ Zygote ~/.julia/packages/Zygote/jxHJc/src/compiler/interface2.jl:0\n",
      " [13] _apply\n",
      "    @ ./boot.jl:838 [inlined]\n",
      " [14] adjoint\n",
      "    @ ~/.julia/packages/Zygote/jxHJc/src/lib/lib.jl:203 [inlined]\n",
      " [15] _pullback\n",
      "    @ ~/.julia/packages/ZygoteRules/M4xmc/src/adjoint.jl:67 [inlined]\n",
      " [16] #37\n",
      "    @ ~/.julia/packages/Flux/Wz6D4/src/optimise/train.jl:92 [inlined]\n",
      " [17] _pullback(::Zygote.Context{true}, ::Flux.Optimise.var\"#37#40\"{typeof(loss), Tuple{Matrix{Float32}, Matrix{Int64}}})\n",
      "    @ Zygote ~/.julia/packages/Zygote/jxHJc/src/compiler/interface2.jl:0\n",
      " [18] pullback(f::Function, ps::Zygote.Params{Zygote.Buffer{Any, Vector{Any}}})\n",
      "    @ Zygote ~/.julia/packages/Zygote/jxHJc/src/compiler/interface.jl:465\n",
      " [19] withgradient(f::Function, args::Zygote.Params{Zygote.Buffer{Any, Vector{Any}}})\n",
      "    @ Zygote ~/.julia/packages/Zygote/jxHJc/src/compiler/interface.jl:205\n",
      " [20] macro expansion\n",
      "    @ ~/.julia/packages/Flux/Wz6D4/src/optimise/train.jl:91 [inlined]\n",
      " [21] macro expansion\n",
      "    @ ~/.julia/packages/ProgressLogging/6KXlp/src/ProgressLogging.jl:328 [inlined]\n",
      " [22] train!(loss::Function, ps::Zygote.Params{Zygote.Buffer{Any, Vector{Any}}}, data::Vector{Tuple{Matrix{Float32}, Matrix{Int64}}}, opt::Adam; cb::Flux.Optimise.var\"#38#41\")\n",
      "    @ Flux.Optimise ~/.julia/packages/Flux/Wz6D4/src/optimise/train.jl:90\n",
      " [23] train!(loss::Function, ps::Zygote.Params{Zygote.Buffer{Any, Vector{Any}}}, data::Vector{Tuple{Matrix{Float32}, Matrix{Int64}}}, opt::Adam)\n",
      "    @ Flux.Optimise ~/.julia/packages/Flux/Wz6D4/src/optimise/train.jl:86\n",
      " [24] top-level scope\n",
      "    @ ~/projects/julia-ml/tutorials/mnist/mnist.ipynb:5"
     ]
    }
   ],
   "source": [
    "parameters = Flux.params(model)\n",
    "train_data = [(Flux.flatten(X_train), Flux.flatten(y_train))]\n",
    "\n",
    "for i in 1:400\n",
    "    Flux.train!(loss, parameters, train_data, optimizer)\n",
    "end"
   ]
  },
  {
   "cell_type": "code",
   "execution_count": 60,
   "metadata": {},
   "outputs": [
    {
     "data": {
      "text/plain": [
       "1×60000 Matrix{Int64}:\n",
       " 5  0  4  1  9  2  1  3  1  4  3  5  3  …  7  8  9  2  9  5  1  8  3  5  6  8"
      ]
     },
     "metadata": {},
     "output_type": "display_data"
    }
   ],
   "source": [
    "Flux.flatten(y_train)"
   ]
  },
  {
   "cell_type": "code",
   "execution_count": 61,
   "metadata": {},
   "outputs": [
    {
     "data": {
      "text/plain": [
       "Flux.Losses"
      ]
     },
     "metadata": {},
     "output_type": "display_data"
    }
   ],
   "source": [
    "Flux.Losses"
   ]
  },
  {
   "cell_type": "code",
   "execution_count": null,
   "metadata": {},
   "outputs": [],
   "source": []
  }
 ],
 "metadata": {
  "kernelspec": {
   "display_name": "Julia 1.10.0-rc3",
   "language": "julia",
   "name": "julia-1.10"
  },
  "language_info": {
   "file_extension": ".jl",
   "mimetype": "application/julia",
   "name": "julia",
   "version": "1.10.0-rc3"
  }
 },
 "nbformat": 4,
 "nbformat_minor": 2
}
