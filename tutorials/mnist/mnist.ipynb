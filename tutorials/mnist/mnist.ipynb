{
 "cells": [
  {
   "cell_type": "code",
   "execution_count": 1,
   "metadata": {},
   "outputs": [],
   "source": [
    "using MLDatasets\n",
    "using Images"
   ]
  },
  {
   "cell_type": "code",
   "execution_count": 5,
   "metadata": {},
   "outputs": [
    {
     "name": "stderr",
     "output_type": "stream",
     "text": [
      "┌ Warning: MNIST.traindata() is deprecated, use `MNIST(split=:train)[:]` instead.\n",
      "└ @ MLDatasets /Users/kizawamasakazu/.julia/packages/MLDatasets/mtOdX/src/datasets/vision/mnist.jl:187\n"
     ]
    },
    {
     "data": {
      "text/plain": [
       "(features = Float32[0.0 0.0 … 0.0 0.0; 0.0 0.0 … 0.0 0.0; … ; 0.0 0.0 … 0.0 0.0; 0.0 0.0 … 0.0 0.0;;; 0.0 0.0 … 0.0 0.0; 0.0 0.0 … 0.0 0.0; … ; 0.0 0.0 … 0.0 0.0; 0.0 0.0 … 0.0 0.0;;; 0.0 0.0 … 0.0 0.0; 0.0 0.0 … 0.0 0.0; … ; 0.0 0.0 … 0.0 0.0; 0.0 0.0 … 0.0 0.0;;; … ;;; 0.0 0.0 … 0.0 0.0; 0.0 0.0 … 0.0 0.0; … ; 0.0 0.0 … 0.0 0.0; 0.0 0.0 … 0.0 0.0;;; 0.0 0.0 … 0.0 0.0; 0.0 0.0 … 0.0 0.0; … ; 0.0 0.0 … 0.0 0.0; 0.0 0.0 … 0.0 0.0;;; 0.0 0.0 … 0.0 0.0; 0.0 0.0 … 0.0 0.0; … ; 0.0 0.0 … 0.0 0.0; 0.0 0.0 … 0.0 0.0], targets = [5, 0, 4, 1, 9, 2, 1, 3, 1, 4  …  9, 2, 9, 5, 1, 8, 3, 5, 6, 8])"
      ]
     },
     "metadata": {},
     "output_type": "display_data"
    }
   ],
   "source": [
    "train_X, train_y = MLDatasets.MNIST.traindata(Float32)"
   ]
  },
  {
   "cell_type": "code",
   "execution_count": 12,
   "metadata": {},
   "outputs": [
    {
     "data": {
      "image/png": "[encoded data removed]",
      "text/html": [
       "<img src=\"data:image/png;base64,iVBORw0KGgoAAAANSUhEUgAAAHAAAABwCAIAAABJgmMcAAAABGdBTUEAALGPC/xhBQAAAAFzUkdCAK7OHOkAAAAgY0hSTQAAeiYAAICEAAD6AAAAgOgAAHUwAADqYAAAOpgAABdwnLpRPAAABARJREFUeAHtwUuIzQ0cxvFvebJgcWRjSiGlUVMuCSW5xOxYnEhRU8ptMWQ1NQsLFjMpcxZGFqKmTMnObUW5LtTU5JKQYqEwKxymfyM1x1tvPQs5dTpzfvPOW36fj0ihRAolUiiRQokUSqRQIoUSKZRIoUQKJVIokUKJFEqkUCKFEimUSH9Yv349Vi6Xsd7eXhoRKZRIoUQKJdIfenp6sHK5jPX29tKISKFECiVSKJH+NX/+fGzdunVMlUihRAolUigxDVavXo29f/8e+/LlC/9XFy5cwBYuXMhUiRRKpFAihRJBFi1ahN29exf7/Pkz1tPTg12/fp2ZtmDBAmzVqlXU8/r1a5ohUiiRQokUSgSZPXs2ViqVsFKphO3YsQO7d+8e9v37d2ZCR0cHtnTpUuq5desWzRAplEihRAolgmzYsIFGnj59io2PjzMT2trasHPnztHI5OQkzRAplEihRAolgmzcuJFGBgcHsZUrV2Lfvn3DTp48iRVFQbR9+/Zhy5cvp56JiQlsYGCAZogUSqRQIoUSLZg1axY2b948mnHgwAHqWbNmDXbo0CHs3bt3TFV7ezvW3d1NI2fPnsWq1SrNECmUSKFECiVaUCqVsF27dtHIs2fPsEqlgh08eBDbvHkz9uTJE2z//v3YtWvXaMaxY8ewJUuWUM/jx4+x/v5+pkqkUCKFEimUmGYjIyNYZ2cnVhQFdvXqVWz79u3YxYsXsaGhIezt27fYixcvqGfFihVYuVymkUqlghVFwVSJFEqkUCKFEtOsWq1iRVFQT61Ww+7cuYPdv38f6+rqwiqVCrZnzx6sWq1iu3fvxtra2qhnZGQEu337NhFECiVSKJFCiRYcPXqURrZu3Yp1dHRgL1++pJHR0VGsq6sL27ZtG7Zz505seHgYW7t2LY2cOXMGm5iYIIJIoUQKJVIo0YI5c+ZQT61Ww37+/IkdP34cO3z4MI2cP38emzt3Ltbf348NDQ1hly5dwiRRz+joKHbjxg2iiRRKpFAihRItaG9vxz58+ICdOHECGx4eZqp+/fqFXb58GVu8eDF25MgRTBL1TE5OYn19fVitViOaSKFECiVSKNGC7u5ubHBwECuKgmhjY2NYX18ftmzZMmzTpk3Yq1evsLGxMezmzZtMJ5FCiRRKpFCiBQMDA1i5XMauXLnCdPr48SPW2dmJbdmyBXv06BFWq9X4r4gUSqRQIoUSLdi7dy82Pj6Offr0iZnw4MEDZppIoUQKJVIo0YIfP35gz58/x75+/crfSqRQIoUSKZRowenTp7GHDx9ib9684W8lUiiRQokUSrTg1KlTpN+JFEqkUCKFEimUSKFECiVSKJFCiRRKpFAihRIplEihRAolUqh/AJGIBMYOqw2cAAAAAElFTkSuQmCC\">"
      ],
      "text/plain": [
       "28×28 Array{RGB{Float32},2} with eltype RGB{Float32}:\n",
       " RGB{Float32}(0.0,0.0,0.0)  …  RGB{Float32}(0.0,0.0,0.0)\n",
       " RGB{Float32}(0.0,0.0,0.0)     RGB{Float32}(0.0,0.0,0.0)\n",
       " RGB{Float32}(0.0,0.0,0.0)     RGB{Float32}(0.0,0.0,0.0)\n",
       " RGB{Float32}(0.0,0.0,0.0)     RGB{Float32}(0.0,0.0,0.0)\n",
       " RGB{Float32}(0.0,0.0,0.0)     RGB{Float32}(0.0,0.0,0.0)\n",
       " RGB{Float32}(0.0,0.0,0.0)  …  RGB{Float32}(0.0,0.0,0.0)\n",
       " RGB{Float32}(0.0,0.0,0.0)     RGB{Float32}(0.0,0.0,0.0)\n",
       " RGB{Float32}(0.0,0.0,0.0)     RGB{Float32}(0.0,0.0,0.0)\n",
       " RGB{Float32}(0.0,0.0,0.0)     RGB{Float32}(0.0,0.0,0.0)\n",
       " RGB{Float32}(0.0,0.0,0.0)     RGB{Float32}(0.0,0.0,0.0)\n",
       " ⋮                          ⋱  \n",
       " RGB{Float32}(0.0,0.0,0.0)     RGB{Float32}(0.0,0.0,0.0)\n",
       " RGB{Float32}(0.0,0.0,0.0)  …  RGB{Float32}(0.0,0.0,0.0)\n",
       " RGB{Float32}(0.0,0.0,0.0)     RGB{Float32}(0.0,0.0,0.0)\n",
       " RGB{Float32}(0.0,0.0,0.0)     RGB{Float32}(0.0,0.0,0.0)\n",
       " RGB{Float32}(0.0,0.0,0.0)     RGB{Float32}(0.0,0.0,0.0)\n",
       " RGB{Float32}(0.0,0.0,0.0)     RGB{Float32}(0.0,0.0,0.0)\n",
       " RGB{Float32}(0.0,0.0,0.0)  …  RGB{Float32}(0.0,0.0,0.0)\n",
       " RGB{Float32}(0.0,0.0,0.0)     RGB{Float32}(0.0,0.0,0.0)\n",
       " RGB{Float32}(0.0,0.0,0.0)     RGB{Float32}(0.0,0.0,0.0)"
      ]
     },
     "metadata": {},
     "output_type": "display_data"
    }
   ],
   "source": [
    "# データ表示\n",
    "RGB.(train_X[:,:,1])"
   ]
  },
  {
   "cell_type": "code",
   "execution_count": 13,
   "metadata": {},
   "outputs": [
    {
     "ename": "ArgumentError",
     "evalue": "ArgumentError: Package Flux not found in current path.\n- Run `import Pkg; Pkg.add(\"Flux\")` to install the Flux package.",
     "output_type": "error",
     "traceback": [
      "ArgumentError: Package Flux not found in current path.\n",
      "- Run `import Pkg; Pkg.add(\"Flux\")` to install the Flux package.\n",
      "\n",
      "Stacktrace:\n",
      "  [1] macro expansion\n",
      "    @ Base ./loading.jl:1766 [inlined]\n",
      "  [2] macro expansion\n",
      "    @ Base ./lock.jl:267 [inlined]\n",
      "  [3] __require(into::Module, mod::Symbol)\n",
      "    @ Base ./loading.jl:1747\n",
      "  [4] #invoke_in_world#3\n",
      "    @ Base ./essentials.jl:921 [inlined]\n",
      "  [5] invoke_in_world\n",
      "    @ Base ./essentials.jl:918 [inlined]\n",
      "  [6] require(into::Module, mod::Symbol)\n",
      "    @ Base ./loading.jl:1740\n",
      "  [7] eval\n",
      "    @ ./boot.jl:385 [inlined]\n",
      "  [8] include_string(mapexpr::typeof(REPL.softscope), mod::Module, code::String, filename::String)\n",
      "    @ Base ./loading.jl:2070\n",
      "  [9] #invokelatest#2\n",
      "    @ ./essentials.jl:887 [inlined]\n",
      " [10] invokelatest\n",
      "    @ ./essentials.jl:884 [inlined]\n",
      " [11] (::VSCodeServer.var\"#216#217\"{VSCodeServer.NotebookRunCellArguments, String})()\n",
      "    @ VSCodeServer ~/.vscode/extensions/julialang.language-julia-1.76.2/scripts/packages/VSCodeServer/src/serve_notebook.jl:19\n",
      " [12] withpath(f::VSCodeServer.var\"#216#217\"{VSCodeServer.NotebookRunCellArguments, String}, path::String)\n",
      "    @ VSCodeServer ~/.vscode/extensions/julialang.language-julia-1.76.2/scripts/packages/VSCodeServer/src/repl.jl:274\n",
      " [13] notebook_runcell_request(conn::VSCodeServer.JSONRPC.JSONRPCEndpoint{Base.PipeEndpoint, Base.PipeEndpoint}, params::VSCodeServer.NotebookRunCellArguments)\n",
      "    @ VSCodeServer ~/.vscode/extensions/julialang.language-julia-1.76.2/scripts/packages/VSCodeServer/src/serve_notebook.jl:13\n",
      " [14] dispatch_msg(x::VSCodeServer.JSONRPC.JSONRPCEndpoint{Base.PipeEndpoint, Base.PipeEndpoint}, dispatcher::VSCodeServer.JSONRPC.MsgDispatcher, msg::Dict{String, Any})\n",
      "    @ VSCodeServer.JSONRPC ~/.vscode/extensions/julialang.language-julia-1.76.2/scripts/packages/JSONRPC/src/typed.jl:67\n",
      " [15] serve_notebook(pipename::String, outputchannel_logger::Base.CoreLogging.SimpleLogger; crashreporting_pipename::String)\n",
      "    @ VSCodeServer ~/.vscode/extensions/julialang.language-julia-1.76.2/scripts/packages/VSCodeServer/src/serve_notebook.jl:139\n",
      " [16] top-level scope\n",
      "    @ ~/.vscode/extensions/julialang.language-julia-1.76.2/scripts/notebook/notebook.jl:35"
     ]
    }
   ],
   "source": [
    "using Flux"
   ]
  },
  {
   "cell_type": "code",
   "execution_count": null,
   "metadata": {},
   "outputs": [],
   "source": []
  }
 ],
 "metadata": {
  "kernelspec": {
   "display_name": "Julia 1.10.0-rc3",
   "language": "julia",
   "name": "julia-1.10"
  },
  "language_info": {
   "file_extension": ".jl",
   "mimetype": "application/julia",
   "name": "julia",
   "version": "1.10.0-rc3"
  }
 },
 "nbformat": 4,
 "nbformat_minor": 2
}
